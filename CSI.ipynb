{
 "cells": [
  {
   "cell_type": "code",
   "execution_count": null,
   "id": "49db3e54",
   "metadata": {},
   "outputs": [],
   "source": [
    "import cv2\n",
    "import mediapipe as mp\n",
    "import flask\n",
    "import numpy as np\n",
    "import json"
   ]
  },
  {
   "cell_type": "code",
   "execution_count": null,
   "id": "d6922bad",
   "metadata": {
    "scrolled": true
   },
   "outputs": [],
   "source": [
    "cap = cv2.VideoCapture(0)\n",
    "\n",
    "mpHands = mp.solutions.hands\n",
    "hands = mpHands.Hands(static_image_mode=False,\n",
    "                      max_num_hands=1)\n",
    "mpDraw = mp.solutions.drawing_utils\n",
    "\n",
    "endPoint = ()\n",
    "startPoint = ()\n",
    "\n",
    "while True:\n",
    "    success, source = cap.read()\n",
    "    img = cv2.flip(source,1)\n",
    "    print(img.shape)\n",
    "    imgRGB = cv2.cvtColor(img, cv2.COLOR_BGR2RGB)\n",
    "    results = hands.process(imgRGB)\n",
    "    #print(results.multi_hand_landmarks)\n",
    "    if results.multi_hand_landmarks:\n",
    "        for handLms in results.multi_hand_landmarks:\n",
    "            for id, lm in enumerate(handLms.landmark):\n",
    "                h, w, c = img.shape\n",
    "                cx, cy = int(lm.x *w), int(lm.y*h)\n",
    "                if id == 8:\n",
    "                    endPoint = (cx,cy)\n",
    "                if id == 5:\n",
    "                    startPoint = (cx,cy)\n",
    "                if startPoint != () and endPoint != ():\n",
    "                    cv2.line(img,startPoint,endPoint,(0, 255, 0),9)\n",
    "                mpDraw.draw_landmarks(img, handLms, mpHands.HAND_CONNECTIONS)\n",
    "    cv2.imshow(\"Image\", img)\n",
    "    cv2.waitKey(1)"
   ]
  },
  {
   "cell_type": "code",
   "execution_count": null,
   "id": "6746d0c4",
   "metadata": {
    "scrolled": true
   },
   "outputs": [],
   "source": []
  }
 ],
 "metadata": {
  "kernelspec": {
   "display_name": "Python 3.10.8 64-bit (microsoft store)",
   "language": "python",
   "name": "python3"
  },
  "language_info": {
   "codemirror_mode": {
    "name": "ipython",
    "version": 3
   },
   "file_extension": ".py",
   "mimetype": "text/x-python",
   "name": "python",
   "nbconvert_exporter": "python",
   "pygments_lexer": "ipython3",
   "version": "3.10.8"
  },
  "vscode": {
   "interpreter": {
    "hash": "3402f6eb14c4906d731aa10c85fdbb9ec134b1a03649f32a6076b3bf1a013827"
   }
  }
 },
 "nbformat": 4,
 "nbformat_minor": 5
}
